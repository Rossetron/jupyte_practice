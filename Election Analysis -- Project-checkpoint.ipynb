{
 "cells": [
  {
   "cell_type": "code",
   "execution_count": 2,
   "metadata": {
    "collapsed": true
   },
   "outputs": [],
   "source": [
    "import numpy as np\n",
    "import pandas as pd\n",
    "from numpy.random import randn\n",
    "from scipy import stats\n",
    "\n",
    "import matplotlib as mpl\n",
    "\n",
    "import matplotlib.pyplot as plt\n",
    "import seaborn as sns\n",
    "sns.set_style('whitegrid')\n",
    "%matplotlib inline"
   ]
  },
  {
   "cell_type": "code",
   "execution_count": 3,
   "metadata": {
    "collapsed": true
   },
   "outputs": [],
   "source": [
    "from __future__ import division"
   ]
  },
  {
   "cell_type": "code",
   "execution_count": 6,
   "metadata": {},
   "outputs": [],
   "source": [
    "import requests\n",
    "from io import StringIO"
   ]
  },
  {
   "cell_type": "code",
   "execution_count": 7,
   "metadata": {
    "collapsed": true
   },
   "outputs": [],
   "source": [
    "url = \"http://elections.huffingtonpost.com/pollster/2012-general-election-romney-vs-obama.csv\""
   ]
  },
  {
   "cell_type": "code",
   "execution_count": null,
   "metadata": {
    "collapsed": true
   },
   "outputs": [],
   "source": []
  },
  {
   "cell_type": "code",
   "execution_count": 8,
   "metadata": {
    "collapsed": true
   },
   "outputs": [],
   "source": [
    "source = requests.get(url).text"
   ]
  },
  {
   "cell_type": "code",
   "execution_count": 9,
   "metadata": {
    "collapsed": true
   },
   "outputs": [],
   "source": [
    "poll_data = StringIO(source)"
   ]
  },
  {
   "cell_type": "code",
   "execution_count": 10,
   "metadata": {
    "collapsed": true
   },
   "outputs": [],
   "source": [
    "poll_df = pd.read_csv(poll_data)"
   ]
  },
  {
   "cell_type": "code",
   "execution_count": 11,
   "metadata": {},
   "outputs": [
    {
     "name": "stdout",
     "output_type": "stream",
     "text": [
      "<class 'pandas.core.frame.DataFrame'>\n",
      "RangeIndex: 586 entries, 0 to 585\n",
      "Data columns (total 17 columns):\n",
      "Pollster                  586 non-null object\n",
      "Start Date                586 non-null object\n",
      "End Date                  586 non-null object\n",
      "Entry Date/Time (ET)      586 non-null object\n",
      "Number of Observations    564 non-null float64\n",
      "Population                586 non-null object\n",
      "Mode                      586 non-null object\n",
      "Obama                     586 non-null float64\n",
      "Romney                    586 non-null float64\n",
      "Undecided                 423 non-null float64\n",
      "Other                     202 non-null float64\n",
      "Pollster URL              586 non-null object\n",
      "Source URL                584 non-null object\n",
      "Partisan                  586 non-null object\n",
      "Affiliation               586 non-null object\n",
      "Question Text             0 non-null float64\n",
      "Question Iteration        586 non-null int64\n",
      "dtypes: float64(6), int64(1), object(10)\n",
      "memory usage: 77.9+ KB\n"
     ]
    }
   ],
   "source": [
    "poll_df.info()"
   ]
  },
  {
   "cell_type": "code",
   "execution_count": 12,
   "metadata": {},
   "outputs": [
    {
     "data": {
      "text/html": [
       "<div>\n",
       "<style>\n",
       "    .dataframe thead tr:only-child th {\n",
       "        text-align: right;\n",
       "    }\n",
       "\n",
       "    .dataframe thead th {\n",
       "        text-align: left;\n",
       "    }\n",
       "\n",
       "    .dataframe tbody tr th {\n",
       "        vertical-align: top;\n",
       "    }\n",
       "</style>\n",
       "<table border=\"1\" class=\"dataframe\">\n",
       "  <thead>\n",
       "    <tr style=\"text-align: right;\">\n",
       "      <th></th>\n",
       "      <th>Pollster</th>\n",
       "      <th>Start Date</th>\n",
       "      <th>End Date</th>\n",
       "      <th>Entry Date/Time (ET)</th>\n",
       "      <th>Number of Observations</th>\n",
       "      <th>Population</th>\n",
       "      <th>Mode</th>\n",
       "      <th>Obama</th>\n",
       "      <th>Romney</th>\n",
       "      <th>Undecided</th>\n",
       "      <th>Other</th>\n",
       "      <th>Pollster URL</th>\n",
       "      <th>Source URL</th>\n",
       "      <th>Partisan</th>\n",
       "      <th>Affiliation</th>\n",
       "      <th>Question Text</th>\n",
       "      <th>Question Iteration</th>\n",
       "    </tr>\n",
       "  </thead>\n",
       "  <tbody>\n",
       "    <tr>\n",
       "      <th>0</th>\n",
       "      <td>Politico/GWU/Battleground</td>\n",
       "      <td>2012-11-04</td>\n",
       "      <td>2012-11-05</td>\n",
       "      <td>2012-11-06T08:40:26Z</td>\n",
       "      <td>1000.0</td>\n",
       "      <td>Likely Voters</td>\n",
       "      <td>Live Phone</td>\n",
       "      <td>47.0</td>\n",
       "      <td>47.0</td>\n",
       "      <td>6.0</td>\n",
       "      <td>NaN</td>\n",
       "      <td>http://elections.huffingtonpost.com/pollster/p...</td>\n",
       "      <td>http://www.politico.com/news/stories/1112/8338...</td>\n",
       "      <td>Nonpartisan</td>\n",
       "      <td>None</td>\n",
       "      <td>NaN</td>\n",
       "      <td>1</td>\n",
       "    </tr>\n",
       "    <tr>\n",
       "      <th>1</th>\n",
       "      <td>YouGov/Economist</td>\n",
       "      <td>2012-11-03</td>\n",
       "      <td>2012-11-05</td>\n",
       "      <td>2012-11-26T15:31:23Z</td>\n",
       "      <td>740.0</td>\n",
       "      <td>Likely Voters</td>\n",
       "      <td>Internet</td>\n",
       "      <td>49.0</td>\n",
       "      <td>47.0</td>\n",
       "      <td>3.0</td>\n",
       "      <td>NaN</td>\n",
       "      <td>http://elections.huffingtonpost.com/pollster/p...</td>\n",
       "      <td>http://cdn.yougov.com/cumulus_uploads/document...</td>\n",
       "      <td>Nonpartisan</td>\n",
       "      <td>None</td>\n",
       "      <td>NaN</td>\n",
       "      <td>1</td>\n",
       "    </tr>\n",
       "    <tr>\n",
       "      <th>2</th>\n",
       "      <td>Gravis Marketing</td>\n",
       "      <td>2012-11-03</td>\n",
       "      <td>2012-11-05</td>\n",
       "      <td>2012-11-06T09:22:02Z</td>\n",
       "      <td>872.0</td>\n",
       "      <td>Likely Voters</td>\n",
       "      <td>Automated Phone</td>\n",
       "      <td>48.0</td>\n",
       "      <td>48.0</td>\n",
       "      <td>4.0</td>\n",
       "      <td>NaN</td>\n",
       "      <td>http://elections.huffingtonpost.com/pollster/p...</td>\n",
       "      <td>http://www.gravispolls.com/2012/11/gravis-mark...</td>\n",
       "      <td>Nonpartisan</td>\n",
       "      <td>None</td>\n",
       "      <td>NaN</td>\n",
       "      <td>1</td>\n",
       "    </tr>\n",
       "    <tr>\n",
       "      <th>3</th>\n",
       "      <td>IBD/TIPP</td>\n",
       "      <td>2012-11-03</td>\n",
       "      <td>2012-11-05</td>\n",
       "      <td>2012-11-06T08:51:48Z</td>\n",
       "      <td>712.0</td>\n",
       "      <td>Likely Voters</td>\n",
       "      <td>Live Phone</td>\n",
       "      <td>50.0</td>\n",
       "      <td>49.0</td>\n",
       "      <td>NaN</td>\n",
       "      <td>1.0</td>\n",
       "      <td>http://elections.huffingtonpost.com/pollster/p...</td>\n",
       "      <td>http://news.investors.com/special-report/50841...</td>\n",
       "      <td>Nonpartisan</td>\n",
       "      <td>None</td>\n",
       "      <td>NaN</td>\n",
       "      <td>1</td>\n",
       "    </tr>\n",
       "    <tr>\n",
       "      <th>4</th>\n",
       "      <td>Rasmussen</td>\n",
       "      <td>2012-11-03</td>\n",
       "      <td>2012-11-05</td>\n",
       "      <td>2012-11-06T08:47:50Z</td>\n",
       "      <td>1500.0</td>\n",
       "      <td>Likely Voters</td>\n",
       "      <td>Automated Phone</td>\n",
       "      <td>48.0</td>\n",
       "      <td>49.0</td>\n",
       "      <td>NaN</td>\n",
       "      <td>NaN</td>\n",
       "      <td>http://elections.huffingtonpost.com/pollster/p...</td>\n",
       "      <td>http://www.rasmussenreports.com/public_content...</td>\n",
       "      <td>Nonpartisan</td>\n",
       "      <td>None</td>\n",
       "      <td>NaN</td>\n",
       "      <td>1</td>\n",
       "    </tr>\n",
       "  </tbody>\n",
       "</table>\n",
       "</div>"
      ],
      "text/plain": [
       "                    Pollster  Start Date    End Date  Entry Date/Time (ET)  \\\n",
       "0  Politico/GWU/Battleground  2012-11-04  2012-11-05  2012-11-06T08:40:26Z   \n",
       "1           YouGov/Economist  2012-11-03  2012-11-05  2012-11-26T15:31:23Z   \n",
       "2           Gravis Marketing  2012-11-03  2012-11-05  2012-11-06T09:22:02Z   \n",
       "3                   IBD/TIPP  2012-11-03  2012-11-05  2012-11-06T08:51:48Z   \n",
       "4                  Rasmussen  2012-11-03  2012-11-05  2012-11-06T08:47:50Z   \n",
       "\n",
       "   Number of Observations     Population             Mode  Obama  Romney  \\\n",
       "0                  1000.0  Likely Voters       Live Phone   47.0    47.0   \n",
       "1                   740.0  Likely Voters         Internet   49.0    47.0   \n",
       "2                   872.0  Likely Voters  Automated Phone   48.0    48.0   \n",
       "3                   712.0  Likely Voters       Live Phone   50.0    49.0   \n",
       "4                  1500.0  Likely Voters  Automated Phone   48.0    49.0   \n",
       "\n",
       "   Undecided  Other                                       Pollster URL  \\\n",
       "0        6.0    NaN  http://elections.huffingtonpost.com/pollster/p...   \n",
       "1        3.0    NaN  http://elections.huffingtonpost.com/pollster/p...   \n",
       "2        4.0    NaN  http://elections.huffingtonpost.com/pollster/p...   \n",
       "3        NaN    1.0  http://elections.huffingtonpost.com/pollster/p...   \n",
       "4        NaN    NaN  http://elections.huffingtonpost.com/pollster/p...   \n",
       "\n",
       "                                          Source URL     Partisan Affiliation  \\\n",
       "0  http://www.politico.com/news/stories/1112/8338...  Nonpartisan        None   \n",
       "1  http://cdn.yougov.com/cumulus_uploads/document...  Nonpartisan        None   \n",
       "2  http://www.gravispolls.com/2012/11/gravis-mark...  Nonpartisan        None   \n",
       "3  http://news.investors.com/special-report/50841...  Nonpartisan        None   \n",
       "4  http://www.rasmussenreports.com/public_content...  Nonpartisan        None   \n",
       "\n",
       "   Question Text  Question Iteration  \n",
       "0            NaN                   1  \n",
       "1            NaN                   1  \n",
       "2            NaN                   1  \n",
       "3            NaN                   1  \n",
       "4            NaN                   1  "
      ]
     },
     "execution_count": 12,
     "metadata": {},
     "output_type": "execute_result"
    }
   ],
   "source": [
    "poll_df.head()"
   ]
  },
  {
   "cell_type": "code",
   "execution_count": 13,
   "metadata": {},
   "outputs": [
    {
     "data": {
      "text/plain": [
       "<seaborn.axisgrid.FacetGrid at 0x1d5ea6ecb38>"
      ]
     },
     "execution_count": 13,
     "metadata": {},
     "output_type": "execute_result"
    },
    {
     "data": {
      "image/png": "[encoded data removed]",
      "text/plain": [
       "<matplotlib.figure.Figure at 0x1d5ea909860>"
      ]
     },
     "metadata": {},
     "output_type": "display_data"
    }
   ],
   "source": [
    "sns.factorplot('Affiliation', kind = \"count\", data = poll_df)"
   ]
  },
  {
   "cell_type": "code",
   "execution_count": 14,
   "metadata": {},
   "outputs": [
    {
     "data": {
      "text/plain": [
       "<seaborn.axisgrid.FacetGrid at 0x1d5ea7d0668>"
      ]
     },
     "execution_count": 14,
     "metadata": {},
     "output_type": "execute_result"
    },
    {
     "data": {
      "image/png": "[encoded data removed]",
      "text/plain": [
       "<matplotlib.figure.Figure at 0x1d5ea813a58>"
      ]
     },
     "metadata": {},
     "output_type": "display_data"
    }
   ],
   "source": [
    "sns.factorplot('Affiliation', kind = \"count\", data= poll_df, hue = 'Population')"
   ]
  },
  {
   "cell_type": "code",
   "execution_count": 15,
   "metadata": {},
   "outputs": [
    {
     "data": {
      "text/html": [
       "<div>\n",
       "<style>\n",
       "    .dataframe thead tr:only-child th {\n",
       "        text-align: right;\n",
       "    }\n",
       "\n",
       "    .dataframe thead th {\n",
       "        text-align: left;\n",
       "    }\n",
       "\n",
       "    .dataframe tbody tr th {\n",
       "        vertical-align: top;\n",
       "    }\n",
       "</style>\n",
       "<table border=\"1\" class=\"dataframe\">\n",
       "  <thead>\n",
       "    <tr style=\"text-align: right;\">\n",
       "      <th></th>\n",
       "      <th>Pollster</th>\n",
       "      <th>Start Date</th>\n",
       "      <th>End Date</th>\n",
       "      <th>Entry Date/Time (ET)</th>\n",
       "      <th>Number of Observations</th>\n",
       "      <th>Population</th>\n",
       "      <th>Mode</th>\n",
       "      <th>Obama</th>\n",
       "      <th>Romney</th>\n",
       "      <th>Undecided</th>\n",
       "      <th>Other</th>\n",
       "      <th>Pollster URL</th>\n",
       "      <th>Source URL</th>\n",
       "      <th>Partisan</th>\n",
       "      <th>Affiliation</th>\n",
       "      <th>Question Text</th>\n",
       "      <th>Question Iteration</th>\n",
       "    </tr>\n",
       "  </thead>\n",
       "  <tbody>\n",
       "    <tr>\n",
       "      <th>0</th>\n",
       "      <td>Politico/GWU/Battleground</td>\n",
       "      <td>2012-11-04</td>\n",
       "      <td>2012-11-05</td>\n",
       "      <td>2012-11-06T08:40:26Z</td>\n",
       "      <td>1000.0</td>\n",
       "      <td>Likely Voters</td>\n",
       "      <td>Live Phone</td>\n",
       "      <td>47.0</td>\n",
       "      <td>47.0</td>\n",
       "      <td>6.0</td>\n",
       "      <td>NaN</td>\n",
       "      <td>http://elections.huffingtonpost.com/pollster/p...</td>\n",
       "      <td>http://www.politico.com/news/stories/1112/8338...</td>\n",
       "      <td>Nonpartisan</td>\n",
       "      <td>None</td>\n",
       "      <td>NaN</td>\n",
       "      <td>1</td>\n",
       "    </tr>\n",
       "    <tr>\n",
       "      <th>1</th>\n",
       "      <td>YouGov/Economist</td>\n",
       "      <td>2012-11-03</td>\n",
       "      <td>2012-11-05</td>\n",
       "      <td>2012-11-26T15:31:23Z</td>\n",
       "      <td>740.0</td>\n",
       "      <td>Likely Voters</td>\n",
       "      <td>Internet</td>\n",
       "      <td>49.0</td>\n",
       "      <td>47.0</td>\n",
       "      <td>3.0</td>\n",
       "      <td>NaN</td>\n",
       "      <td>http://elections.huffingtonpost.com/pollster/p...</td>\n",
       "      <td>http://cdn.yougov.com/cumulus_uploads/document...</td>\n",
       "      <td>Nonpartisan</td>\n",
       "      <td>None</td>\n",
       "      <td>NaN</td>\n",
       "      <td>1</td>\n",
       "    </tr>\n",
       "    <tr>\n",
       "      <th>2</th>\n",
       "      <td>Gravis Marketing</td>\n",
       "      <td>2012-11-03</td>\n",
       "      <td>2012-11-05</td>\n",
       "      <td>2012-11-06T09:22:02Z</td>\n",
       "      <td>872.0</td>\n",
       "      <td>Likely Voters</td>\n",
       "      <td>Automated Phone</td>\n",
       "      <td>48.0</td>\n",
       "      <td>48.0</td>\n",
       "      <td>4.0</td>\n",
       "      <td>NaN</td>\n",
       "      <td>http://elections.huffingtonpost.com/pollster/p...</td>\n",
       "      <td>http://www.gravispolls.com/2012/11/gravis-mark...</td>\n",
       "      <td>Nonpartisan</td>\n",
       "      <td>None</td>\n",
       "      <td>NaN</td>\n",
       "      <td>1</td>\n",
       "    </tr>\n",
       "    <tr>\n",
       "      <th>3</th>\n",
       "      <td>IBD/TIPP</td>\n",
       "      <td>2012-11-03</td>\n",
       "      <td>2012-11-05</td>\n",
       "      <td>2012-11-06T08:51:48Z</td>\n",
       "      <td>712.0</td>\n",
       "      <td>Likely Voters</td>\n",
       "      <td>Live Phone</td>\n",
       "      <td>50.0</td>\n",
       "      <td>49.0</td>\n",
       "      <td>NaN</td>\n",
       "      <td>1.0</td>\n",
       "      <td>http://elections.huffingtonpost.com/pollster/p...</td>\n",
       "      <td>http://news.investors.com/special-report/50841...</td>\n",
       "      <td>Nonpartisan</td>\n",
       "      <td>None</td>\n",
       "      <td>NaN</td>\n",
       "      <td>1</td>\n",
       "    </tr>\n",
       "    <tr>\n",
       "      <th>4</th>\n",
       "      <td>Rasmussen</td>\n",
       "      <td>2012-11-03</td>\n",
       "      <td>2012-11-05</td>\n",
       "      <td>2012-11-06T08:47:50Z</td>\n",
       "      <td>1500.0</td>\n",
       "      <td>Likely Voters</td>\n",
       "      <td>Automated Phone</td>\n",
       "      <td>48.0</td>\n",
       "      <td>49.0</td>\n",
       "      <td>NaN</td>\n",
       "      <td>NaN</td>\n",
       "      <td>http://elections.huffingtonpost.com/pollster/p...</td>\n",
       "      <td>http://www.rasmussenreports.com/public_content...</td>\n",
       "      <td>Nonpartisan</td>\n",
       "      <td>None</td>\n",
       "      <td>NaN</td>\n",
       "      <td>1</td>\n",
       "    </tr>\n",
       "  </tbody>\n",
       "</table>\n",
       "</div>"
      ],
      "text/plain": [
       "                    Pollster  Start Date    End Date  Entry Date/Time (ET)  \\\n",
       "0  Politico/GWU/Battleground  2012-11-04  2012-11-05  2012-11-06T08:40:26Z   \n",
       "1           YouGov/Economist  2012-11-03  2012-11-05  2012-11-26T15:31:23Z   \n",
       "2           Gravis Marketing  2012-11-03  2012-11-05  2012-11-06T09:22:02Z   \n",
       "3                   IBD/TIPP  2012-11-03  2012-11-05  2012-11-06T08:51:48Z   \n",
       "4                  Rasmussen  2012-11-03  2012-11-05  2012-11-06T08:47:50Z   \n",
       "\n",
       "   Number of Observations     Population             Mode  Obama  Romney  \\\n",
       "0                  1000.0  Likely Voters       Live Phone   47.0    47.0   \n",
       "1                   740.0  Likely Voters         Internet   49.0    47.0   \n",
       "2                   872.0  Likely Voters  Automated Phone   48.0    48.0   \n",
       "3                   712.0  Likely Voters       Live Phone   50.0    49.0   \n",
       "4                  1500.0  Likely Voters  Automated Phone   48.0    49.0   \n",
       "\n",
       "   Undecided  Other                                       Pollster URL  \\\n",
       "0        6.0    NaN  http://elections.huffingtonpost.com/pollster/p...   \n",
       "1        3.0    NaN  http://elections.huffingtonpost.com/pollster/p...   \n",
       "2        4.0    NaN  http://elections.huffingtonpost.com/pollster/p...   \n",
       "3        NaN    1.0  http://elections.huffingtonpost.com/pollster/p...   \n",
       "4        NaN    NaN  http://elections.huffingtonpost.com/pollster/p...   \n",
       "\n",
       "                                          Source URL     Partisan Affiliation  \\\n",
       "0  http://www.politico.com/news/stories/1112/8338...  Nonpartisan        None   \n",
       "1  http://cdn.yougov.com/cumulus_uploads/document...  Nonpartisan        None   \n",
       "2  http://www.gravispolls.com/2012/11/gravis-mark...  Nonpartisan        None   \n",
       "3  http://news.investors.com/special-report/50841...  Nonpartisan        None   \n",
       "4  http://www.rasmussenreports.com/public_content...  Nonpartisan        None   \n",
       "\n",
       "   Question Text  Question Iteration  \n",
       "0            NaN                   1  \n",
       "1            NaN                   1  \n",
       "2            NaN                   1  \n",
       "3            NaN                   1  \n",
       "4            NaN                   1  "
      ]
     },
     "execution_count": 15,
     "metadata": {},
     "output_type": "execute_result"
    }
   ],
   "source": [
    "poll_df.head()"
   ]
  },
  {
   "cell_type": "code",
   "execution_count": 16,
   "metadata": {
    "collapsed": true
   },
   "outputs": [],
   "source": [
    "avg = pd.DataFrame(poll_df.mean())"
   ]
  },
  {
   "cell_type": "code",
   "execution_count": 18,
   "metadata": {},
   "outputs": [
    {
     "data": {
      "text/html": [
       "<div>\n",
       "<style>\n",
       "    .dataframe thead tr:only-child th {\n",
       "        text-align: right;\n",
       "    }\n",
       "\n",
       "    .dataframe thead th {\n",
       "        text-align: left;\n",
       "    }\n",
       "\n",
       "    .dataframe tbody tr th {\n",
       "        vertical-align: top;\n",
       "    }\n",
       "</style>\n",
       "<table border=\"1\" class=\"dataframe\">\n",
       "  <thead>\n",
       "    <tr style=\"text-align: right;\">\n",
       "      <th></th>\n",
       "      <th>0</th>\n",
       "    </tr>\n",
       "  </thead>\n",
       "  <tbody>\n",
       "    <tr>\n",
       "      <th>Number of Observations</th>\n",
       "      <td>1296.679078</td>\n",
       "    </tr>\n",
       "    <tr>\n",
       "      <th>Obama</th>\n",
       "      <td>46.805461</td>\n",
       "    </tr>\n",
       "    <tr>\n",
       "      <th>Romney</th>\n",
       "      <td>44.614334</td>\n",
       "    </tr>\n",
       "    <tr>\n",
       "      <th>Undecided</th>\n",
       "      <td>6.550827</td>\n",
       "    </tr>\n",
       "    <tr>\n",
       "      <th>Other</th>\n",
       "      <td>3.376238</td>\n",
       "    </tr>\n",
       "  </tbody>\n",
       "</table>\n",
       "</div>"
      ],
      "text/plain": [
       "                                  0\n",
       "Number of Observations  1296.679078\n",
       "Obama                     46.805461\n",
       "Romney                    44.614334\n",
       "Undecided                  6.550827\n",
       "Other                      3.376238"
      ]
     },
     "execution_count": 18,
     "metadata": {},
     "output_type": "execute_result"
    }
   ],
   "source": [
    "avg.head()"
   ]
  },
  {
   "cell_type": "code",
   "execution_count": null,
   "metadata": {
    "collapsed": true
   },
   "outputs": [],
   "source": []
  },
  {
   "cell_type": "code",
   "execution_count": 23,
   "metadata": {},
   "outputs": [],
   "source": [
    "avg.drop('Number of Observations', axis=0, inplace=True)"
   ]
  },
  {
   "cell_type": "code",
   "execution_count": null,
   "metadata": {
    "collapsed": true
   },
   "outputs": [],
   "source": []
  },
  {
   "cell_type": "code",
   "execution_count": 24,
   "metadata": {},
   "outputs": [],
   "source": [
    "std = pd.DataFrame(poll_df.std())\n",
    "std.drop('Number of Observations', axis=0, inplace=True)"
   ]
  },
  {
   "cell_type": "code",
   "execution_count": 25,
   "metadata": {},
   "outputs": [
    {
     "data": {
      "text/plain": [
       "<matplotlib.axes._subplots.AxesSubplot at 0x1d5ea7d7518>"
      ]
     },
     "execution_count": 25,
     "metadata": {},
     "output_type": "execute_result"
    },
    {
     "data": {
      "image/png": "[encoded data removed]",
      "text/plain": [
       "<matplotlib.figure.Figure at 0x1d5eab15e10>"
      ]
     },
     "metadata": {},
     "output_type": "display_data"
    }
   ],
   "source": [
    "avg.plot(yerr=std, kind='bar',legend=False)"
   ]
  },
  {
   "cell_type": "code",
   "execution_count": 26,
   "metadata": {
    "collapsed": true
   },
   "outputs": [],
   "source": [
    "poll_avg = pd.concat([avg,std], axis=1)"
   ]
  },
  {
   "cell_type": "code",
   "execution_count": 27,
   "metadata": {},
   "outputs": [
    {
     "data": {
      "text/html": [
       "<div>\n",
       "<style>\n",
       "    .dataframe thead tr:only-child th {\n",
       "        text-align: right;\n",
       "    }\n",
       "\n",
       "    .dataframe thead th {\n",
       "        text-align: left;\n",
       "    }\n",
       "\n",
       "    .dataframe tbody tr th {\n",
       "        vertical-align: top;\n",
       "    }\n",
       "</style>\n",
       "<table border=\"1\" class=\"dataframe\">\n",
       "  <thead>\n",
       "    <tr style=\"text-align: right;\">\n",
       "      <th></th>\n",
       "      <th>0</th>\n",
       "      <th>0</th>\n",
       "    </tr>\n",
       "  </thead>\n",
       "  <tbody>\n",
       "    <tr>\n",
       "      <th>Obama</th>\n",
       "      <td>46.805461</td>\n",
       "      <td>2.422058</td>\n",
       "    </tr>\n",
       "    <tr>\n",
       "      <th>Romney</th>\n",
       "      <td>44.614334</td>\n",
       "      <td>2.906180</td>\n",
       "    </tr>\n",
       "    <tr>\n",
       "      <th>Undecided</th>\n",
       "      <td>6.550827</td>\n",
       "      <td>3.701754</td>\n",
       "    </tr>\n",
       "    <tr>\n",
       "      <th>Other</th>\n",
       "      <td>3.376238</td>\n",
       "      <td>2.692726</td>\n",
       "    </tr>\n",
       "    <tr>\n",
       "      <th>Question Text</th>\n",
       "      <td>NaN</td>\n",
       "      <td>NaN</td>\n",
       "    </tr>\n",
       "    <tr>\n",
       "      <th>Question Iteration</th>\n",
       "      <td>1.000000</td>\n",
       "      <td>0.000000</td>\n",
       "    </tr>\n",
       "  </tbody>\n",
       "</table>\n",
       "</div>"
      ],
      "text/plain": [
       "                            0         0\n",
       "Obama               46.805461  2.422058\n",
       "Romney              44.614334  2.906180\n",
       "Undecided            6.550827  3.701754\n",
       "Other                3.376238  2.692726\n",
       "Question Text             NaN       NaN\n",
       "Question Iteration   1.000000  0.000000"
      ]
     },
     "execution_count": 27,
     "metadata": {},
     "output_type": "execute_result"
    }
   ],
   "source": [
    "poll_avg"
   ]
  },
  {
   "cell_type": "code",
   "execution_count": 28,
   "metadata": {
    "collapsed": true
   },
   "outputs": [],
   "source": [
    "poll_avg.columns =['Average','STD']"
   ]
  },
  {
   "cell_type": "code",
   "execution_count": 29,
   "metadata": {},
   "outputs": [
    {
     "data": {
      "text/html": [
       "<div>\n",
       "<style>\n",
       "    .dataframe thead tr:only-child th {\n",
       "        text-align: right;\n",
       "    }\n",
       "\n",
       "    .dataframe thead th {\n",
       "        text-align: left;\n",
       "    }\n",
       "\n",
       "    .dataframe tbody tr th {\n",
       "        vertical-align: top;\n",
       "    }\n",
       "</style>\n",
       "<table border=\"1\" class=\"dataframe\">\n",
       "  <thead>\n",
       "    <tr style=\"text-align: right;\">\n",
       "      <th></th>\n",
       "      <th>Average</th>\n",
       "      <th>STD</th>\n",
       "    </tr>\n",
       "  </thead>\n",
       "  <tbody>\n",
       "    <tr>\n",
       "      <th>Obama</th>\n",
       "      <td>46.805461</td>\n",
       "      <td>2.422058</td>\n",
       "    </tr>\n",
       "    <tr>\n",
       "      <th>Romney</th>\n",
       "      <td>44.614334</td>\n",
       "      <td>2.906180</td>\n",
       "    </tr>\n",
       "    <tr>\n",
       "      <th>Undecided</th>\n",
       "      <td>6.550827</td>\n",
       "      <td>3.701754</td>\n",
       "    </tr>\n",
       "    <tr>\n",
       "      <th>Other</th>\n",
       "      <td>3.376238</td>\n",
       "      <td>2.692726</td>\n",
       "    </tr>\n",
       "    <tr>\n",
       "      <th>Question Text</th>\n",
       "      <td>NaN</td>\n",
       "      <td>NaN</td>\n",
       "    </tr>\n",
       "    <tr>\n",
       "      <th>Question Iteration</th>\n",
       "      <td>1.000000</td>\n",
       "      <td>0.000000</td>\n",
       "    </tr>\n",
       "  </tbody>\n",
       "</table>\n",
       "</div>"
      ],
      "text/plain": [
       "                      Average       STD\n",
       "Obama               46.805461  2.422058\n",
       "Romney              44.614334  2.906180\n",
       "Undecided            6.550827  3.701754\n",
       "Other                3.376238  2.692726\n",
       "Question Text             NaN       NaN\n",
       "Question Iteration   1.000000  0.000000"
      ]
     },
     "execution_count": 29,
     "metadata": {},
     "output_type": "execute_result"
    }
   ],
   "source": [
    "poll_avg"
   ]
  },
  {
   "cell_type": "code",
   "execution_count": 30,
   "metadata": {},
   "outputs": [
    {
     "data": {
      "text/html": [
       "<div>\n",
       "<style>\n",
       "    .dataframe thead tr:only-child th {\n",
       "        text-align: right;\n",
       "    }\n",
       "\n",
       "    .dataframe thead th {\n",
       "        text-align: left;\n",
       "    }\n",
       "\n",
       "    .dataframe tbody tr th {\n",
       "        vertical-align: top;\n",
       "    }\n",
       "</style>\n",
       "<table border=\"1\" class=\"dataframe\">\n",
       "  <thead>\n",
       "    <tr style=\"text-align: right;\">\n",
       "      <th></th>\n",
       "      <th>Pollster</th>\n",
       "      <th>Start Date</th>\n",
       "      <th>End Date</th>\n",
       "      <th>Entry Date/Time (ET)</th>\n",
       "      <th>Number of Observations</th>\n",
       "      <th>Population</th>\n",
       "      <th>Mode</th>\n",
       "      <th>Obama</th>\n",
       "      <th>Romney</th>\n",
       "      <th>Undecided</th>\n",
       "      <th>Other</th>\n",
       "      <th>Pollster URL</th>\n",
       "      <th>Source URL</th>\n",
       "      <th>Partisan</th>\n",
       "      <th>Affiliation</th>\n",
       "      <th>Question Text</th>\n",
       "      <th>Question Iteration</th>\n",
       "    </tr>\n",
       "  </thead>\n",
       "  <tbody>\n",
       "    <tr>\n",
       "      <th>0</th>\n",
       "      <td>Politico/GWU/Battleground</td>\n",
       "      <td>2012-11-04</td>\n",
       "      <td>2012-11-05</td>\n",
       "      <td>2012-11-06T08:40:26Z</td>\n",
       "      <td>1000.0</td>\n",
       "      <td>Likely Voters</td>\n",
       "      <td>Live Phone</td>\n",
       "      <td>47.0</td>\n",
       "      <td>47.0</td>\n",
       "      <td>6.0</td>\n",
       "      <td>NaN</td>\n",
       "      <td>http://elections.huffingtonpost.com/pollster/p...</td>\n",
       "      <td>http://www.politico.com/news/stories/1112/8338...</td>\n",
       "      <td>Nonpartisan</td>\n",
       "      <td>None</td>\n",
       "      <td>NaN</td>\n",
       "      <td>1</td>\n",
       "    </tr>\n",
       "    <tr>\n",
       "      <th>1</th>\n",
       "      <td>YouGov/Economist</td>\n",
       "      <td>2012-11-03</td>\n",
       "      <td>2012-11-05</td>\n",
       "      <td>2012-11-26T15:31:23Z</td>\n",
       "      <td>740.0</td>\n",
       "      <td>Likely Voters</td>\n",
       "      <td>Internet</td>\n",
       "      <td>49.0</td>\n",
       "      <td>47.0</td>\n",
       "      <td>3.0</td>\n",
       "      <td>NaN</td>\n",
       "      <td>http://elections.huffingtonpost.com/pollster/p...</td>\n",
       "      <td>http://cdn.yougov.com/cumulus_uploads/document...</td>\n",
       "      <td>Nonpartisan</td>\n",
       "      <td>None</td>\n",
       "      <td>NaN</td>\n",
       "      <td>1</td>\n",
       "    </tr>\n",
       "    <tr>\n",
       "      <th>2</th>\n",
       "      <td>Gravis Marketing</td>\n",
       "      <td>2012-11-03</td>\n",
       "      <td>2012-11-05</td>\n",
       "      <td>2012-11-06T09:22:02Z</td>\n",
       "      <td>872.0</td>\n",
       "      <td>Likely Voters</td>\n",
       "      <td>Automated Phone</td>\n",
       "      <td>48.0</td>\n",
       "      <td>48.0</td>\n",
       "      <td>4.0</td>\n",
       "      <td>NaN</td>\n",
       "      <td>http://elections.huffingtonpost.com/pollster/p...</td>\n",
       "      <td>http://www.gravispolls.com/2012/11/gravis-mark...</td>\n",
       "      <td>Nonpartisan</td>\n",
       "      <td>None</td>\n",
       "      <td>NaN</td>\n",
       "      <td>1</td>\n",
       "    </tr>\n",
       "    <tr>\n",
       "      <th>3</th>\n",
       "      <td>IBD/TIPP</td>\n",
       "      <td>2012-11-03</td>\n",
       "      <td>2012-11-05</td>\n",
       "      <td>2012-11-06T08:51:48Z</td>\n",
       "      <td>712.0</td>\n",
       "      <td>Likely Voters</td>\n",
       "      <td>Live Phone</td>\n",
       "      <td>50.0</td>\n",
       "      <td>49.0</td>\n",
       "      <td>NaN</td>\n",
       "      <td>1.0</td>\n",
       "      <td>http://elections.huffingtonpost.com/pollster/p...</td>\n",
       "      <td>http://news.investors.com/special-report/50841...</td>\n",
       "      <td>Nonpartisan</td>\n",
       "      <td>None</td>\n",
       "      <td>NaN</td>\n",
       "      <td>1</td>\n",
       "    </tr>\n",
       "    <tr>\n",
       "      <th>4</th>\n",
       "      <td>Rasmussen</td>\n",
       "      <td>2012-11-03</td>\n",
       "      <td>2012-11-05</td>\n",
       "      <td>2012-11-06T08:47:50Z</td>\n",
       "      <td>1500.0</td>\n",
       "      <td>Likely Voters</td>\n",
       "      <td>Automated Phone</td>\n",
       "      <td>48.0</td>\n",
       "      <td>49.0</td>\n",
       "      <td>NaN</td>\n",
       "      <td>NaN</td>\n",
       "      <td>http://elections.huffingtonpost.com/pollster/p...</td>\n",
       "      <td>http://www.rasmussenreports.com/public_content...</td>\n",
       "      <td>Nonpartisan</td>\n",
       "      <td>None</td>\n",
       "      <td>NaN</td>\n",
       "      <td>1</td>\n",
       "    </tr>\n",
       "  </tbody>\n",
       "</table>\n",
       "</div>"
      ],
      "text/plain": [
       "                    Pollster  Start Date    End Date  Entry Date/Time (ET)  \\\n",
       "0  Politico/GWU/Battleground  2012-11-04  2012-11-05  2012-11-06T08:40:26Z   \n",
       "1           YouGov/Economist  2012-11-03  2012-11-05  2012-11-26T15:31:23Z   \n",
       "2           Gravis Marketing  2012-11-03  2012-11-05  2012-11-06T09:22:02Z   \n",
       "3                   IBD/TIPP  2012-11-03  2012-11-05  2012-11-06T08:51:48Z   \n",
       "4                  Rasmussen  2012-11-03  2012-11-05  2012-11-06T08:47:50Z   \n",
       "\n",
       "   Number of Observations     Population             Mode  Obama  Romney  \\\n",
       "0                  1000.0  Likely Voters       Live Phone   47.0    47.0   \n",
       "1                   740.0  Likely Voters         Internet   49.0    47.0   \n",
       "2                   872.0  Likely Voters  Automated Phone   48.0    48.0   \n",
       "3                   712.0  Likely Voters       Live Phone   50.0    49.0   \n",
       "4                  1500.0  Likely Voters  Automated Phone   48.0    49.0   \n",
       "\n",
       "   Undecided  Other                                       Pollster URL  \\\n",
       "0        6.0    NaN  http://elections.huffingtonpost.com/pollster/p...   \n",
       "1        3.0    NaN  http://elections.huffingtonpost.com/pollster/p...   \n",
       "2        4.0    NaN  http://elections.huffingtonpost.com/pollster/p...   \n",
       "3        NaN    1.0  http://elections.huffingtonpost.com/pollster/p...   \n",
       "4        NaN    NaN  http://elections.huffingtonpost.com/pollster/p...   \n",
       "\n",
       "                                          Source URL     Partisan Affiliation  \\\n",
       "0  http://www.politico.com/news/stories/1112/8338...  Nonpartisan        None   \n",
       "1  http://cdn.yougov.com/cumulus_uploads/document...  Nonpartisan        None   \n",
       "2  http://www.gravispolls.com/2012/11/gravis-mark...  Nonpartisan        None   \n",
       "3  http://news.investors.com/special-report/50841...  Nonpartisan        None   \n",
       "4  http://www.rasmussenreports.com/public_content...  Nonpartisan        None   \n",
       "\n",
       "   Question Text  Question Iteration  \n",
       "0            NaN                   1  \n",
       "1            NaN                   1  \n",
       "2            NaN                   1  \n",
       "3            NaN                   1  \n",
       "4            NaN                   1  "
      ]
     },
     "execution_count": 30,
     "metadata": {},
     "output_type": "execute_result"
    }
   ],
   "source": [
    "poll_df.head()"
   ]
  },
  {
   "cell_type": "code",
   "execution_count": 31,
   "metadata": {},
   "outputs": [
    {
     "data": {
      "text/plain": [
       "<matplotlib.axes._subplots.AxesSubplot at 0x1d5ead2f5c0>"
      ]
     },
     "execution_count": 31,
     "metadata": {},
     "output_type": "execute_result"
    },
    {
     "data": {
      "image/png": "[encoded data removed]",
      "text/plain": [
       "<matplotlib.figure.Figure at 0x1d5ead51898>"
      ]
     },
     "metadata": {},
     "output_type": "display_data"
    }
   ],
   "source": [
    "poll_df.plot(x='End Date',y=['Obama','Romney','Undecided','Other'], linestyle='', marker='o')"
   ]
  },
  {
   "cell_type": "code",
   "execution_count": 32,
   "metadata": {
    "collapsed": true
   },
   "outputs": [],
   "source": [
    "from datetime import datetime"
   ]
  },
  {
   "cell_type": "code",
   "execution_count": 33,
   "metadata": {
    "collapsed": true
   },
   "outputs": [],
   "source": [
    "poll_df['Difference'] = (poll_df.Obama - poll_df.Romney)/100"
   ]
  },
  {
   "cell_type": "code",
   "execution_count": 34,
   "metadata": {},
   "outputs": [
    {
     "data": {
      "text/html": [
       "<div>\n",
       "<style>\n",
       "    .dataframe thead tr:only-child th {\n",
       "        text-align: right;\n",
       "    }\n",
       "\n",
       "    .dataframe thead th {\n",
       "        text-align: left;\n",
       "    }\n",
       "\n",
       "    .dataframe tbody tr th {\n",
       "        vertical-align: top;\n",
       "    }\n",
       "</style>\n",
       "<table border=\"1\" class=\"dataframe\">\n",
       "  <thead>\n",
       "    <tr style=\"text-align: right;\">\n",
       "      <th></th>\n",
       "      <th>Pollster</th>\n",
       "      <th>Start Date</th>\n",
       "      <th>End Date</th>\n",
       "      <th>Entry Date/Time (ET)</th>\n",
       "      <th>Number of Observations</th>\n",
       "      <th>Population</th>\n",
       "      <th>Mode</th>\n",
       "      <th>Obama</th>\n",
       "      <th>Romney</th>\n",
       "      <th>Undecided</th>\n",
       "      <th>Other</th>\n",
       "      <th>Pollster URL</th>\n",
       "      <th>Source URL</th>\n",
       "      <th>Partisan</th>\n",
       "      <th>Affiliation</th>\n",
       "      <th>Question Text</th>\n",
       "      <th>Question Iteration</th>\n",
       "      <th>Difference</th>\n",
       "    </tr>\n",
       "  </thead>\n",
       "  <tbody>\n",
       "    <tr>\n",
       "      <th>0</th>\n",
       "      <td>Politico/GWU/Battleground</td>\n",
       "      <td>2012-11-04</td>\n",
       "      <td>2012-11-05</td>\n",
       "      <td>2012-11-06T08:40:26Z</td>\n",
       "      <td>1000.0</td>\n",
       "      <td>Likely Voters</td>\n",
       "      <td>Live Phone</td>\n",
       "      <td>47.0</td>\n",
       "      <td>47.0</td>\n",
       "      <td>6.0</td>\n",
       "      <td>NaN</td>\n",
       "      <td>http://elections.huffingtonpost.com/pollster/p...</td>\n",
       "      <td>http://www.politico.com/news/stories/1112/8338...</td>\n",
       "      <td>Nonpartisan</td>\n",
       "      <td>None</td>\n",
       "      <td>NaN</td>\n",
       "      <td>1</td>\n",
       "      <td>0.00</td>\n",
       "    </tr>\n",
       "    <tr>\n",
       "      <th>1</th>\n",
       "      <td>YouGov/Economist</td>\n",
       "      <td>2012-11-03</td>\n",
       "      <td>2012-11-05</td>\n",
       "      <td>2012-11-26T15:31:23Z</td>\n",
       "      <td>740.0</td>\n",
       "      <td>Likely Voters</td>\n",
       "      <td>Internet</td>\n",
       "      <td>49.0</td>\n",
       "      <td>47.0</td>\n",
       "      <td>3.0</td>\n",
       "      <td>NaN</td>\n",
       "      <td>http://elections.huffingtonpost.com/pollster/p...</td>\n",
       "      <td>http://cdn.yougov.com/cumulus_uploads/document...</td>\n",
       "      <td>Nonpartisan</td>\n",
       "      <td>None</td>\n",
       "      <td>NaN</td>\n",
       "      <td>1</td>\n",
       "      <td>0.02</td>\n",
       "    </tr>\n",
       "    <tr>\n",
       "      <th>2</th>\n",
       "      <td>Gravis Marketing</td>\n",
       "      <td>2012-11-03</td>\n",
       "      <td>2012-11-05</td>\n",
       "      <td>2012-11-06T09:22:02Z</td>\n",
       "      <td>872.0</td>\n",
       "      <td>Likely Voters</td>\n",
       "      <td>Automated Phone</td>\n",
       "      <td>48.0</td>\n",
       "      <td>48.0</td>\n",
       "      <td>4.0</td>\n",
       "      <td>NaN</td>\n",
       "      <td>http://elections.huffingtonpost.com/pollster/p...</td>\n",
       "      <td>http://www.gravispolls.com/2012/11/gravis-mark...</td>\n",
       "      <td>Nonpartisan</td>\n",
       "      <td>None</td>\n",
       "      <td>NaN</td>\n",
       "      <td>1</td>\n",
       "      <td>0.00</td>\n",
       "    </tr>\n",
       "    <tr>\n",
       "      <th>3</th>\n",
       "      <td>IBD/TIPP</td>\n",
       "      <td>2012-11-03</td>\n",
       "      <td>2012-11-05</td>\n",
       "      <td>2012-11-06T08:51:48Z</td>\n",
       "      <td>712.0</td>\n",
       "      <td>Likely Voters</td>\n",
       "      <td>Live Phone</td>\n",
       "      <td>50.0</td>\n",
       "      <td>49.0</td>\n",
       "      <td>NaN</td>\n",
       "      <td>1.0</td>\n",
       "      <td>http://elections.huffingtonpost.com/pollster/p...</td>\n",
       "      <td>http://news.investors.com/special-report/50841...</td>\n",
       "      <td>Nonpartisan</td>\n",
       "      <td>None</td>\n",
       "      <td>NaN</td>\n",
       "      <td>1</td>\n",
       "      <td>0.01</td>\n",
       "    </tr>\n",
       "    <tr>\n",
       "      <th>4</th>\n",
       "      <td>Rasmussen</td>\n",
       "      <td>2012-11-03</td>\n",
       "      <td>2012-11-05</td>\n",
       "      <td>2012-11-06T08:47:50Z</td>\n",
       "      <td>1500.0</td>\n",
       "      <td>Likely Voters</td>\n",
       "      <td>Automated Phone</td>\n",
       "      <td>48.0</td>\n",
       "      <td>49.0</td>\n",
       "      <td>NaN</td>\n",
       "      <td>NaN</td>\n",
       "      <td>http://elections.huffingtonpost.com/pollster/p...</td>\n",
       "      <td>http://www.rasmussenreports.com/public_content...</td>\n",
       "      <td>Nonpartisan</td>\n",
       "      <td>None</td>\n",
       "      <td>NaN</td>\n",
       "      <td>1</td>\n",
       "      <td>-0.01</td>\n",
       "    </tr>\n",
       "  </tbody>\n",
       "</table>\n",
       "</div>"
      ],
      "text/plain": [
       "                    Pollster  Start Date    End Date  Entry Date/Time (ET)  \\\n",
       "0  Politico/GWU/Battleground  2012-11-04  2012-11-05  2012-11-06T08:40:26Z   \n",
       "1           YouGov/Economist  2012-11-03  2012-11-05  2012-11-26T15:31:23Z   \n",
       "2           Gravis Marketing  2012-11-03  2012-11-05  2012-11-06T09:22:02Z   \n",
       "3                   IBD/TIPP  2012-11-03  2012-11-05  2012-11-06T08:51:48Z   \n",
       "4                  Rasmussen  2012-11-03  2012-11-05  2012-11-06T08:47:50Z   \n",
       "\n",
       "   Number of Observations     Population             Mode  Obama  Romney  \\\n",
       "0                  1000.0  Likely Voters       Live Phone   47.0    47.0   \n",
       "1                   740.0  Likely Voters         Internet   49.0    47.0   \n",
       "2                   872.0  Likely Voters  Automated Phone   48.0    48.0   \n",
       "3                   712.0  Likely Voters       Live Phone   50.0    49.0   \n",
       "4                  1500.0  Likely Voters  Automated Phone   48.0    49.0   \n",
       "\n",
       "   Undecided  Other                                       Pollster URL  \\\n",
       "0        6.0    NaN  http://elections.huffingtonpost.com/pollster/p...   \n",
       "1        3.0    NaN  http://elections.huffingtonpost.com/pollster/p...   \n",
       "2        4.0    NaN  http://elections.huffingtonpost.com/pollster/p...   \n",
       "3        NaN    1.0  http://elections.huffingtonpost.com/pollster/p...   \n",
       "4        NaN    NaN  http://elections.huffingtonpost.com/pollster/p...   \n",
       "\n",
       "                                          Source URL     Partisan Affiliation  \\\n",
       "0  http://www.politico.com/news/stories/1112/8338...  Nonpartisan        None   \n",
       "1  http://cdn.yougov.com/cumulus_uploads/document...  Nonpartisan        None   \n",
       "2  http://www.gravispolls.com/2012/11/gravis-mark...  Nonpartisan        None   \n",
       "3  http://news.investors.com/special-report/50841...  Nonpartisan        None   \n",
       "4  http://www.rasmussenreports.com/public_content...  Nonpartisan        None   \n",
       "\n",
       "   Question Text  Question Iteration  Difference  \n",
       "0            NaN                   1        0.00  \n",
       "1            NaN                   1        0.02  \n",
       "2            NaN                   1        0.00  \n",
       "3            NaN                   1        0.01  \n",
       "4            NaN                   1       -0.01  "
      ]
     },
     "execution_count": 34,
     "metadata": {},
     "output_type": "execute_result"
    }
   ],
   "source": [
    "poll_df.head()"
   ]
  },
  {
   "cell_type": "code",
   "execution_count": 35,
   "metadata": {},
   "outputs": [
    {
     "data": {
      "text/html": [
       "<div>\n",
       "<style>\n",
       "    .dataframe thead tr:only-child th {\n",
       "        text-align: right;\n",
       "    }\n",
       "\n",
       "    .dataframe thead th {\n",
       "        text-align: left;\n",
       "    }\n",
       "\n",
       "    .dataframe tbody tr th {\n",
       "        vertical-align: top;\n",
       "    }\n",
       "</style>\n",
       "<table border=\"1\" class=\"dataframe\">\n",
       "  <thead>\n",
       "    <tr style=\"text-align: right;\">\n",
       "      <th></th>\n",
       "      <th>Start Date</th>\n",
       "      <th>Number of Observations</th>\n",
       "      <th>Obama</th>\n",
       "      <th>Romney</th>\n",
       "      <th>Undecided</th>\n",
       "      <th>Other</th>\n",
       "      <th>Question Text</th>\n",
       "      <th>Question Iteration</th>\n",
       "      <th>Difference</th>\n",
       "    </tr>\n",
       "  </thead>\n",
       "  <tbody>\n",
       "    <tr>\n",
       "      <th>0</th>\n",
       "      <td>2009-03-13</td>\n",
       "      <td>1403.0</td>\n",
       "      <td>44.0</td>\n",
       "      <td>44.0</td>\n",
       "      <td>12.0</td>\n",
       "      <td>NaN</td>\n",
       "      <td>NaN</td>\n",
       "      <td>1</td>\n",
       "      <td>0.00</td>\n",
       "    </tr>\n",
       "    <tr>\n",
       "      <th>1</th>\n",
       "      <td>2009-04-17</td>\n",
       "      <td>686.0</td>\n",
       "      <td>50.0</td>\n",
       "      <td>39.0</td>\n",
       "      <td>11.0</td>\n",
       "      <td>NaN</td>\n",
       "      <td>NaN</td>\n",
       "      <td>1</td>\n",
       "      <td>0.11</td>\n",
       "    </tr>\n",
       "    <tr>\n",
       "      <th>2</th>\n",
       "      <td>2009-05-14</td>\n",
       "      <td>1000.0</td>\n",
       "      <td>53.0</td>\n",
       "      <td>35.0</td>\n",
       "      <td>12.0</td>\n",
       "      <td>NaN</td>\n",
       "      <td>NaN</td>\n",
       "      <td>1</td>\n",
       "      <td>0.18</td>\n",
       "    </tr>\n",
       "    <tr>\n",
       "      <th>3</th>\n",
       "      <td>2009-06-12</td>\n",
       "      <td>638.0</td>\n",
       "      <td>48.0</td>\n",
       "      <td>40.0</td>\n",
       "      <td>12.0</td>\n",
       "      <td>NaN</td>\n",
       "      <td>NaN</td>\n",
       "      <td>1</td>\n",
       "      <td>0.08</td>\n",
       "    </tr>\n",
       "    <tr>\n",
       "      <th>4</th>\n",
       "      <td>2009-07-15</td>\n",
       "      <td>577.0</td>\n",
       "      <td>49.0</td>\n",
       "      <td>40.0</td>\n",
       "      <td>11.0</td>\n",
       "      <td>NaN</td>\n",
       "      <td>NaN</td>\n",
       "      <td>1</td>\n",
       "      <td>0.09</td>\n",
       "    </tr>\n",
       "  </tbody>\n",
       "</table>\n",
       "</div>"
      ],
      "text/plain": [
       "   Start Date  Number of Observations  Obama  Romney  Undecided  Other  \\\n",
       "0  2009-03-13                  1403.0   44.0    44.0       12.0    NaN   \n",
       "1  2009-04-17                   686.0   50.0    39.0       11.0    NaN   \n",
       "2  2009-05-14                  1000.0   53.0    35.0       12.0    NaN   \n",
       "3  2009-06-12                   638.0   48.0    40.0       12.0    NaN   \n",
       "4  2009-07-15                   577.0   49.0    40.0       11.0    NaN   \n",
       "\n",
       "   Question Text  Question Iteration  Difference  \n",
       "0            NaN                   1        0.00  \n",
       "1            NaN                   1        0.11  \n",
       "2            NaN                   1        0.18  \n",
       "3            NaN                   1        0.08  \n",
       "4            NaN                   1        0.09  "
      ]
     },
     "execution_count": 35,
     "metadata": {},
     "output_type": "execute_result"
    }
   ],
   "source": [
    "poll_df = poll_df.groupby(['Start Date'], as_index = False).mean()\n",
    "\n",
    "poll_df.head()"
   ]
  },
  {
   "cell_type": "code",
   "execution_count": 38,
   "metadata": {},
   "outputs": [
    {
     "data": {
      "text/plain": [
       "<matplotlib.axes._subplots.AxesSubplot at 0x1d5eb0ad0b8>"
      ]
     },
     "execution_count": 38,
     "metadata": {},
     "output_type": "execute_result"
    },
    {
     "data": {
      "image/png": "[encoded data removed]",
      "text/plain": [
       "<matplotlib.figure.Figure at 0x1d5eb098550>"
      ]
     },
     "metadata": {},
     "output_type": "display_data"
    }
   ],
   "source": [
    "poll_df.plot('Start Date', 'Difference', figsize=(12,4), marker='o', linestyle='-', color='purple')"
   ]
  },
  {
   "cell_type": "code",
   "execution_count": 55,
   "metadata": {},
   "outputs": [],
   "source": [
    "row_in = 0\n",
    "xlimit = []\n",
    "for date in poll_df['Start Date']:\n",
    "    if date[0:7] == '2012-10':\n",
    "        xlimit.append(row_in)\n",
    "        row_in += 1\n",
    "    else:\n",
    "        row_in \n",
    "   "
   ]
  },
  {
   "cell_type": "code",
   "execution_count": 59,
   "metadata": {},
   "outputs": [
    {
     "data": {
      "text/plain": [
       "<matplotlib.axes._subplots.AxesSubplot at 0x1d5eb199b38>"
      ]
     },
     "execution_count": 59,
     "metadata": {},
     "output_type": "execute_result"
    },
    {
     "data": {
      "image/png": "[encoded data removed]",
      "text/plain": [
       "<matplotlib.figure.Figure at 0x1d5eb1992e8>"
      ]
     },
     "metadata": {},
     "output_type": "display_data"
    }
   ],
   "source": [
    "poll_df.plot('Start Date', 'Difference', figsize=(12,4), marker='o',linestyle='-',color='purple')"
   ]
  },
  {
   "cell_type": "code",
   "execution_count": 62,
   "metadata": {},
   "outputs": [
    {
     "data": {
      "text/plain": [
       "<matplotlib.lines.Line2D at 0x1d5eb246b00>"
      ]
     },
     "execution_count": 62,
     "metadata": {},
     "output_type": "execute_result"
    },
    {
     "data": {
      "image/png": "[encoded data removed]",
      "text/plain": [
       "<matplotlib.figure.Figure at 0x1d5eb2465c0>"
      ]
     },
     "metadata": {},
     "output_type": "display_data"
    }
   ],
   "source": [
    "poll_df.plot('Start Date', 'Difference', figsize=(12,4), marker='o',linestyle='-',color='purple',xlim=(329,356))\n",
    "\n",
    "plt.axvline(x=329+2, linewidth=4, color='grey')\n",
    "\n",
    "plt.axvline(x=329+10, linewidth=4, color='grey')\n",
    "\n",
    "plt.axvline(x=329+21, linewidth=4, color='grey')"
   ]
  },
  {
   "cell_type": "markdown",
   "metadata": {},
   "source": [
    "# last two videos are left"
   ]
  },
  {
   "cell_type": "code",
   "execution_count": null,
   "metadata": {
    "collapsed": true
   },
   "outputs": [],
   "source": []
  },
  {
   "cell_type": "code",
   "execution_count": null,
   "metadata": {
    "collapsed": true
   },
   "outputs": [],
   "source": []
  },
  {
   "cell_type": "code",
   "execution_count": null,
   "metadata": {
    "collapsed": true
   },
   "outputs": [],
   "source": []
  },
  {
   "cell_type": "code",
   "execution_count": 57,
   "metadata": {},
   "outputs": [
    {
     "data": {
      "text/plain": [
       "27"
      ]
     },
     "execution_count": 57,
     "metadata": {},
     "output_type": "execute_result"
    }
   ],
   "source": [
    "max(xlimit)"
   ]
  },
  {
   "cell_type": "code",
   "execution_count": null,
   "metadata": {
    "collapsed": true
   },
   "outputs": [],
   "source": []
  },
  {
   "cell_type": "code",
   "execution_count": null,
   "metadata": {
    "collapsed": true
   },
   "outputs": [],
   "source": []
  },
  {
   "cell_type": "code",
   "execution_count": null,
   "metadata": {
    "collapsed": true
   },
   "outputs": [],
   "source": []
  },
  {
   "cell_type": "code",
   "execution_count": null,
   "metadata": {
    "collapsed": true
   },
   "outputs": [],
   "source": []
  },
  {
   "cell_type": "code",
   "execution_count": null,
   "metadata": {
    "collapsed": true
   },
   "outputs": [],
   "source": []
  },
  {
   "cell_type": "code",
   "execution_count": null,
   "metadata": {
    "collapsed": true
   },
   "outputs": [],
   "source": []
  },
  {
   "cell_type": "code",
   "execution_count": null,
   "metadata": {
    "collapsed": true
   },
   "outputs": [],
   "source": []
  },
  {
   "cell_type": "code",
   "execution_count": null,
   "metadata": {
    "collapsed": true
   },
   "outputs": [],
   "source": []
  },
  {
   "cell_type": "code",
   "execution_count": null,
   "metadata": {
    "collapsed": true
   },
   "outputs": [],
   "source": []
  },
  {
   "cell_type": "code",
   "execution_count": null,
   "metadata": {
    "collapsed": true
   },
   "outputs": [],
   "source": []
  },
  {
   "cell_type": "code",
   "execution_count": null,
   "metadata": {
    "collapsed": true
   },
   "outputs": [],
   "source": []
  },
  {
   "cell_type": "code",
   "execution_count": null,
   "metadata": {
    "collapsed": true
   },
   "outputs": [],
   "source": []
  },
  {
   "cell_type": "code",
   "execution_count": null,
   "metadata": {
    "collapsed": true
   },
   "outputs": [],
   "source": []
  },
  {
   "cell_type": "code",
   "execution_count": null,
   "metadata": {
    "collapsed": true
   },
   "outputs": [],
   "source": []
  },
  {
   "cell_type": "code",
   "execution_count": null,
   "metadata": {
    "collapsed": true
   },
   "outputs": [],
   "source": []
  },
  {
   "cell_type": "code",
   "execution_count": null,
   "metadata": {
    "collapsed": true
   },
   "outputs": [],
   "source": []
  },
  {
   "cell_type": "code",
   "execution_count": null,
   "metadata": {
    "collapsed": true
   },
   "outputs": [],
   "source": []
  },
  {
   "cell_type": "code",
   "execution_count": null,
   "metadata": {
    "collapsed": true
   },
   "outputs": [],
   "source": []
  },
  {
   "cell_type": "code",
   "execution_count": null,
   "metadata": {
    "collapsed": true
   },
   "outputs": [],
   "source": []
  },
  {
   "cell_type": "code",
   "execution_count": null,
   "metadata": {
    "collapsed": true
   },
   "outputs": [],
   "source": []
  },
  {
   "cell_type": "code",
   "execution_count": null,
   "metadata": {
    "collapsed": true
   },
   "outputs": [],
   "source": []
  },
  {
   "cell_type": "code",
   "execution_count": null,
   "metadata": {
    "collapsed": true
   },
   "outputs": [],
   "source": []
  },
  {
   "cell_type": "code",
   "execution_count": null,
   "metadata": {
    "collapsed": true
   },
   "outputs": [],
   "source": []
  },
  {
   "cell_type": "code",
   "execution_count": null,
   "metadata": {
    "collapsed": true
   },
   "outputs": [],
   "source": []
  },
  {
   "cell_type": "code",
   "execution_count": null,
   "metadata": {
    "collapsed": true
   },
   "outputs": [],
   "source": []
  },
  {
   "cell_type": "code",
   "execution_count": null,
   "metadata": {
    "collapsed": true
   },
   "outputs": [],
   "source": []
  },
  {
   "cell_type": "code",
   "execution_count": null,
   "metadata": {
    "collapsed": true
   },
   "outputs": [],
   "source": []
  },
  {
   "cell_type": "code",
   "execution_count": null,
   "metadata": {
    "collapsed": true
   },
   "outputs": [],
   "source": []
  },
  {
   "cell_type": "code",
   "execution_count": null,
   "metadata": {
    "collapsed": true
   },
   "outputs": [],
   "source": []
  }
 ],
 "metadata": {
  "kernelspec": {
   "display_name": "Python 3",
   "language": "python",
   "name": "python3"
  },
  "language_info": {
   "codemirror_mode": {
    "name": "ipython",
    "version": 3
   },
   "file_extension": ".py",
   "mimetype": "text/x-python",
   "name": "python",
   "nbconvert_exporter": "python",
   "pygments_lexer": "ipython3",
   "version": "3.6.1"
  }
 },
 "nbformat": 4,
 "nbformat_minor": 2
}
