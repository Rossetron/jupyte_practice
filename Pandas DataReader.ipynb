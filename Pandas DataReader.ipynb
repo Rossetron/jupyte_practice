{
 "cells": [
  {
   "cell_type": "code",
   "execution_count": 1,
   "metadata": {
    "collapsed": true
   },
   "outputs": [],
   "source": [
    "import pandas_datareader.data as web"
   ]
  },
  {
   "cell_type": "code",
   "execution_count": 2,
   "metadata": {
    "collapsed": true
   },
   "outputs": [],
   "source": [
    "import datetime"
   ]
  },
  {
   "cell_type": "code",
   "execution_count": 3,
   "metadata": {
    "collapsed": true
   },
   "outputs": [],
   "source": [
    "start = datetime.datetime(2015,1,1)\n",
    "end = datetime.datetime(2017,1,1)"
   ]
  },
  {
   "cell_type": "code",
   "execution_count": 5,
   "metadata": {},
   "outputs": [],
   "source": [
    "facebook = web.DataReader('FB','google',start,end)"
   ]
  },
  {
   "cell_type": "code",
   "execution_count": 6,
   "metadata": {},
   "outputs": [
    {
     "data": {
      "text/html": [
       "<div>\n",
       "<style>\n",
       "    .dataframe thead tr:only-child th {\n",
       "        text-align: right;\n",
       "    }\n",
       "\n",
       "    .dataframe thead th {\n",
       "        text-align: left;\n",
       "    }\n",
       "\n",
       "    .dataframe tbody tr th {\n",
       "        vertical-align: top;\n",
       "    }\n",
       "</style>\n",
       "<table border=\"1\" class=\"dataframe\">\n",
       "  <thead>\n",
       "    <tr style=\"text-align: right;\">\n",
       "      <th></th>\n",
       "      <th>Open</th>\n",
       "      <th>High</th>\n",
       "      <th>Low</th>\n",
       "      <th>Close</th>\n",
       "      <th>Volume</th>\n",
       "    </tr>\n",
       "    <tr>\n",
       "      <th>Date</th>\n",
       "      <th></th>\n",
       "      <th></th>\n",
       "      <th></th>\n",
       "      <th></th>\n",
       "      <th></th>\n",
       "    </tr>\n",
       "  </thead>\n",
       "  <tbody>\n",
       "    <tr>\n",
       "      <th>2016-11-04</th>\n",
       "      <td>119.59</td>\n",
       "      <td>121.93</td>\n",
       "      <td>119.25</td>\n",
       "      <td>120.75</td>\n",
       "      <td>30545466</td>\n",
       "    </tr>\n",
       "    <tr>\n",
       "      <th>2016-11-07</th>\n",
       "      <td>122.83</td>\n",
       "      <td>123.21</td>\n",
       "      <td>121.35</td>\n",
       "      <td>122.15</td>\n",
       "      <td>23008880</td>\n",
       "    </tr>\n",
       "    <tr>\n",
       "      <th>2016-11-08</th>\n",
       "      <td>122.03</td>\n",
       "      <td>124.61</td>\n",
       "      <td>121.54</td>\n",
       "      <td>124.22</td>\n",
       "      <td>19460768</td>\n",
       "    </tr>\n",
       "    <tr>\n",
       "      <th>2016-11-09</th>\n",
       "      <td>121.50</td>\n",
       "      <td>123.81</td>\n",
       "      <td>120.51</td>\n",
       "      <td>123.18</td>\n",
       "      <td>31916020</td>\n",
       "    </tr>\n",
       "    <tr>\n",
       "      <th>2016-11-10</th>\n",
       "      <td>123.93</td>\n",
       "      <td>124.18</td>\n",
       "      <td>115.27</td>\n",
       "      <td>120.80</td>\n",
       "      <td>67846704</td>\n",
       "    </tr>\n",
       "  </tbody>\n",
       "</table>\n",
       "</div>"
      ],
      "text/plain": [
       "              Open    High     Low   Close    Volume\n",
       "Date                                                \n",
       "2016-11-04  119.59  121.93  119.25  120.75  30545466\n",
       "2016-11-07  122.83  123.21  121.35  122.15  23008880\n",
       "2016-11-08  122.03  124.61  121.54  124.22  19460768\n",
       "2016-11-09  121.50  123.81  120.51  123.18  31916020\n",
       "2016-11-10  123.93  124.18  115.27  120.80  67846704"
      ]
     },
     "execution_count": 6,
     "metadata": {},
     "output_type": "execute_result"
    }
   ],
   "source": [
    "facebook.head()"
   ]
  },
  {
   "cell_type": "code",
   "execution_count": 7,
   "metadata": {
    "collapsed": true
   },
   "outputs": [],
   "source": [
    "from pandas_datareader.data import Options\n",
    "fb_options = Options('FB','google')"
   ]
  },
  {
   "cell_type": "code",
   "execution_count": 8,
   "metadata": {
    "collapsed": true
   },
   "outputs": [],
   "source": [
    "options_df = fb_options.get_options_data(expiry=fb_options.expiry_dates[0])"
   ]
  },
  {
   "cell_type": "code",
   "execution_count": 9,
   "metadata": {},
   "outputs": [
    {
     "data": {
      "text/html": [
       "<div>\n",
       "<style>\n",
       "    .dataframe thead tr:only-child th {\n",
       "        text-align: right;\n",
       "    }\n",
       "\n",
       "    .dataframe thead th {\n",
       "        text-align: left;\n",
       "    }\n",
       "\n",
       "    .dataframe tbody tr th {\n",
       "        vertical-align: top;\n",
       "    }\n",
       "</style>\n",
       "<table border=\"1\" class=\"dataframe\">\n",
       "  <thead>\n",
       "    <tr style=\"text-align: right;\">\n",
       "      <th></th>\n",
       "      <th></th>\n",
       "      <th></th>\n",
       "      <th></th>\n",
       "      <th>Last</th>\n",
       "      <th>Bid</th>\n",
       "      <th>Ask</th>\n",
       "      <th>Chg</th>\n",
       "      <th>PctChg</th>\n",
       "      <th>Vol</th>\n",
       "      <th>Open_Int</th>\n",
       "      <th>Root</th>\n",
       "      <th>Underlying_Price</th>\n",
       "      <th>Quote_Time</th>\n",
       "    </tr>\n",
       "    <tr>\n",
       "      <th>Strike</th>\n",
       "      <th>Expiry</th>\n",
       "      <th>Type</th>\n",
       "      <th>Symbol</th>\n",
       "      <th></th>\n",
       "      <th></th>\n",
       "      <th></th>\n",
       "      <th></th>\n",
       "      <th></th>\n",
       "      <th></th>\n",
       "      <th></th>\n",
       "      <th></th>\n",
       "      <th></th>\n",
       "      <th></th>\n",
       "    </tr>\n",
       "  </thead>\n",
       "  <tbody>\n",
       "    <tr>\n",
       "      <th rowspan=\"2\" valign=\"top\">5.0</th>\n",
       "      <th rowspan=\"2\" valign=\"top\">2018-01-19</th>\n",
       "      <th>call</th>\n",
       "      <th>FB180119C00005000</th>\n",
       "      <td>172.50</td>\n",
       "      <td>173.70</td>\n",
       "      <td>174.20</td>\n",
       "      <td>0.0</td>\n",
       "      <td>0.0</td>\n",
       "      <td>NaN</td>\n",
       "      <td>9359.0</td>\n",
       "      <td>FB</td>\n",
       "      <td>178.92</td>\n",
       "      <td>2017-11-03 16:57:44.813718</td>\n",
       "    </tr>\n",
       "    <tr>\n",
       "      <th>put</th>\n",
       "      <th>FB180119P00005000</th>\n",
       "      <td>0.01</td>\n",
       "      <td>NaN</td>\n",
       "      <td>0.01</td>\n",
       "      <td>0.0</td>\n",
       "      <td>0.0</td>\n",
       "      <td>NaN</td>\n",
       "      <td>3053.0</td>\n",
       "      <td>FB</td>\n",
       "      <td>178.92</td>\n",
       "      <td>2017-11-03 16:57:44.813718</td>\n",
       "    </tr>\n",
       "    <tr>\n",
       "      <th rowspan=\"2\" valign=\"top\">10.0</th>\n",
       "      <th rowspan=\"2\" valign=\"top\">2018-01-19</th>\n",
       "      <th>call</th>\n",
       "      <th>FB180119C00010000</th>\n",
       "      <td>167.65</td>\n",
       "      <td>168.75</td>\n",
       "      <td>169.30</td>\n",
       "      <td>0.0</td>\n",
       "      <td>0.0</td>\n",
       "      <td>NaN</td>\n",
       "      <td>2691.0</td>\n",
       "      <td>FB</td>\n",
       "      <td>178.92</td>\n",
       "      <td>2017-11-03 16:57:44.813718</td>\n",
       "    </tr>\n",
       "    <tr>\n",
       "      <th>put</th>\n",
       "      <th>FB180119P00010000</th>\n",
       "      <td>0.01</td>\n",
       "      <td>NaN</td>\n",
       "      <td>0.01</td>\n",
       "      <td>0.0</td>\n",
       "      <td>0.0</td>\n",
       "      <td>NaN</td>\n",
       "      <td>2056.0</td>\n",
       "      <td>FB</td>\n",
       "      <td>178.92</td>\n",
       "      <td>2017-11-03 16:57:44.813718</td>\n",
       "    </tr>\n",
       "    <tr>\n",
       "      <th>15.0</th>\n",
       "      <th>2018-01-19</th>\n",
       "      <th>call</th>\n",
       "      <th>FB180119C00015000</th>\n",
       "      <td>158.70</td>\n",
       "      <td>163.80</td>\n",
       "      <td>164.30</td>\n",
       "      <td>0.0</td>\n",
       "      <td>0.0</td>\n",
       "      <td>NaN</td>\n",
       "      <td>250.0</td>\n",
       "      <td>FB</td>\n",
       "      <td>178.92</td>\n",
       "      <td>2017-11-03 16:57:44.813718</td>\n",
       "    </tr>\n",
       "  </tbody>\n",
       "</table>\n",
       "</div>"
      ],
      "text/plain": [
       "                                            Last     Bid     Ask  Chg  PctChg  \\\n",
       "Strike Expiry     Type Symbol                                                   \n",
       "5.0    2018-01-19 call FB180119C00005000  172.50  173.70  174.20  0.0     0.0   \n",
       "                  put  FB180119P00005000    0.01     NaN    0.01  0.0     0.0   \n",
       "10.0   2018-01-19 call FB180119C00010000  167.65  168.75  169.30  0.0     0.0   \n",
       "                  put  FB180119P00010000    0.01     NaN    0.01  0.0     0.0   \n",
       "15.0   2018-01-19 call FB180119C00015000  158.70  163.80  164.30  0.0     0.0   \n",
       "\n",
       "                                          Vol  Open_Int Root  \\\n",
       "Strike Expiry     Type Symbol                                  \n",
       "5.0    2018-01-19 call FB180119C00005000  NaN    9359.0   FB   \n",
       "                  put  FB180119P00005000  NaN    3053.0   FB   \n",
       "10.0   2018-01-19 call FB180119C00010000  NaN    2691.0   FB   \n",
       "                  put  FB180119P00010000  NaN    2056.0   FB   \n",
       "15.0   2018-01-19 call FB180119C00015000  NaN     250.0   FB   \n",
       "\n",
       "                                          Underlying_Price  \\\n",
       "Strike Expiry     Type Symbol                                \n",
       "5.0    2018-01-19 call FB180119C00005000            178.92   \n",
       "                  put  FB180119P00005000            178.92   \n",
       "10.0   2018-01-19 call FB180119C00010000            178.92   \n",
       "                  put  FB180119P00010000            178.92   \n",
       "15.0   2018-01-19 call FB180119C00015000            178.92   \n",
       "\n",
       "                                                         Quote_Time  \n",
       "Strike Expiry     Type Symbol                                        \n",
       "5.0    2018-01-19 call FB180119C00005000 2017-11-03 16:57:44.813718  \n",
       "                  put  FB180119P00005000 2017-11-03 16:57:44.813718  \n",
       "10.0   2018-01-19 call FB180119C00010000 2017-11-03 16:57:44.813718  \n",
       "                  put  FB180119P00010000 2017-11-03 16:57:44.813718  \n",
       "15.0   2018-01-19 call FB180119C00015000 2017-11-03 16:57:44.813718  "
      ]
     },
     "execution_count": 9,
     "metadata": {},
     "output_type": "execute_result"
    }
   ],
   "source": [
    "options_df.head()"
   ]
  },
  {
   "cell_type": "code",
   "execution_count": null,
   "metadata": {
    "collapsed": true
   },
   "outputs": [],
   "source": []
  }
 ],
 "metadata": {
  "kernelspec": {
   "display_name": "Python [default]",
   "language": "python",
   "name": "python3"
  },
  "language_info": {
   "codemirror_mode": {
    "name": "ipython",
    "version": 3
   },
   "file_extension": ".py",
   "mimetype": "text/x-python",
   "name": "python",
   "nbconvert_exporter": "python",
   "pygments_lexer": "ipython3",
   "version": "3.6.1"
  }
 },
 "nbformat": 4,
 "nbformat_minor": 2
}
